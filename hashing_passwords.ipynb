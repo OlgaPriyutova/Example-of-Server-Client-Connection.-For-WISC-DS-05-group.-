{
  "nbformat": 4,
  "nbformat_minor": 0,
  "metadata": {
    "colab": {
      "provenance": [],
      "authorship_tag": "ABX9TyOQSpLtm8zQyZfpmsn2o6ud",
      "include_colab_link": true
    },
    "kernelspec": {
      "name": "python3",
      "display_name": "Python 3"
    },
    "language_info": {
      "name": "python"
    }
  },
  "cells": [
    {
      "cell_type": "markdown",
      "metadata": {
        "id": "view-in-github",
        "colab_type": "text"
      },
      "source": [
        "<a href=\"https://colab.research.google.com/github/OlgaPriyutova/Example-of-Server-Client-Connection.-For-WISC-DS-05-group.-/blob/main/hashing_passwords.ipynb\" target=\"_parent\"><img src=\"https://colab.research.google.com/assets/colab-badge.svg\" alt=\"Open In Colab\"/></a>"
      ]
    },
    {
      "cell_type": "code",
      "execution_count": 14,
      "metadata": {
        "colab": {
          "base_uri": "https://localhost:8080/"
        },
        "id": "uA8Ihyx4M0km",
        "outputId": "33089c9d-7bc8-46bd-f311-f67c31b81039"
      },
      "outputs": [
        {
          "output_type": "stream",
          "name": "stdout",
          "text": [
            "Looking in indexes: https://pypi.org/simple, https://us-python.pkg.dev/colab-wheels/public/simple/\n",
            "Requirement already satisfied: bcrypt in /usr/local/lib/python3.8/dist-packages (4.0.1)\n"
          ]
        }
      ],
      "source": [
        "!pip install bcrypt\n",
        "import bcrypt\n",
        "# hash - one-way function\n"
      ]
    },
    {
      "cell_type": "code",
      "source": [
        "pw = 'MyPassword'\n",
        "hashed = bcrypt.hashpw(pw.encode(),bcrypt.gensalt()).decode()  # use 'salt' encription\n",
        "print(hashed)"
      ],
      "metadata": {
        "colab": {
          "base_uri": "https://localhost:8080/"
        },
        "id": "icYR5Z9qOE3A",
        "outputId": "c1252f28-48bd-4eb6-a1a1-17e4c5f24a41"
      },
      "execution_count": 18,
      "outputs": [
        {
          "output_type": "stream",
          "name": "stdout",
          "text": [
            "$2b$12$0dvRWhjkcgg8QrxBIBGTtuTqOJh8CNh4tg16lRGZpf4RcaS4RxLH6\n"
          ]
        }
      ]
    },
    {
      "cell_type": "code",
      "source": [
        "given = input('Please enter a password ')\n",
        "if bcrypt.checkpw(given.encode(),hashed.encode()):\n",
        "    print('Access granted')\n",
        "else:\n",
        "    print('Access denied')\n",
        "\n"
      ],
      "metadata": {
        "colab": {
          "base_uri": "https://localhost:8080/"
        },
        "id": "A6yQ-05OOxJ4",
        "outputId": "d8bdb33b-e419-4fad-972c-f6cfaf8d1dff"
      },
      "execution_count": 19,
      "outputs": [
        {
          "output_type": "stream",
          "name": "stdout",
          "text": [
            "Please enter a password MyPassword\n",
            "Access granted\n"
          ]
        }
      ]
    }
  ]
}