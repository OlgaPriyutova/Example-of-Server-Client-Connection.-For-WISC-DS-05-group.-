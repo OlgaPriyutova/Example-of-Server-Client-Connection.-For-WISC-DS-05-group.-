{
 "cells": [
  {
   "cell_type": "code",
   "execution_count": 1,
   "id": "1d300130",
   "metadata": {},
   "outputs": [],
   "source": [
    "import socket\n",
    "s=socket.socket(socket.AF_INET, socket.SOCK_STREAM)"
   ]
  },
  {
   "cell_type": "code",
   "execution_count": null,
   "id": "a7155e64",
   "metadata": {},
   "outputs": [],
   "source": []
  },
  {
   "cell_type": "code",
   "execution_count": 2,
   "id": "8741542a",
   "metadata": {},
   "outputs": [],
   "source": [
    "host = '127.0.0.1'\n",
    "port = 9002"
   ]
  },
  {
   "cell_type": "code",
   "execution_count": 3,
   "id": "018d87b0",
   "metadata": {},
   "outputs": [],
   "source": [
    "s.bind((host,port))\n",
    "#listen\n",
    "s.listen()"
   ]
  },
  {
   "cell_type": "code",
   "execution_count": 4,
   "id": "0fb1e687",
   "metadata": {},
   "outputs": [
    {
     "name": "stdout",
     "output_type": "stream",
     "text": [
      "Connection receive from ('127.0.0.1', 54084)\n",
      "<socket.socket fd=1148, family=AddressFamily.AF_INET, type=SocketKind.SOCK_STREAM, proto=0, laddr=('127.0.0.1', 9002), raddr=('127.0.0.1', 54084)>\n"
     ]
    }
   ],
   "source": [
    "# accept\n",
    "client, addr = s.accept()\n",
    "print(f'Connection receive from {addr}')\n",
    "print(client)"
   ]
  },
  {
   "cell_type": "code",
   "execution_count": 5,
   "id": "a1f698f5",
   "metadata": {},
   "outputs": [],
   "source": [
    "# if server is sending\n",
    "data = 'Test. Thanks for connecting with us!'\n",
    "client.sendall(str.encode(data))"
   ]
  },
  {
   "cell_type": "raw",
   "id": "6e575038",
   "metadata": {},
   "source": [
    "Chat block: "
   ]
  },
  {
   "cell_type": "code",
   "execution_count": null,
   "id": "cb4e7566",
   "metadata": {},
   "outputs": [
    {
     "name": "stdout",
     "output_type": "stream",
     "text": [
      "Enter a message, please: 1\n",
      "Incoming message: 2\n",
      "Enter a message, please: 3\n",
      "Incoming message: 4\n"
     ]
    }
   ],
   "source": [
    "while True: \n",
    "    data = input('Enter a message, please: ')\n",
    "    client.sendall(str.encode(data))\n",
    "    msg =client.recv(1024).decode()\n",
    "    if not msg:\n",
    "        break\n",
    "    print('Incoming message:', msg)\n",
    "client.close()"
   ]
  }
 ],
 "metadata": {
  "kernelspec": {
   "display_name": "Python 3",
   "language": "python",
   "name": "python3"
  },
  "language_info": {
   "codemirror_mode": {
    "name": "ipython",
    "version": 3
   },
   "file_extension": ".py",
   "mimetype": "text/x-python",
   "name": "python",
   "nbconvert_exporter": "python",
   "pygments_lexer": "ipython3",
   "version": "3.8.8"
  }
 },
 "nbformat": 4,
 "nbformat_minor": 5
}
