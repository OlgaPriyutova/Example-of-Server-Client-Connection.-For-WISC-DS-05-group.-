{
 "cells": [
  {
   "cell_type": "code",
   "execution_count": 1,
   "id": "12a7d606",
   "metadata": {},
   "outputs": [],
   "source": [
    "import socket\n"
   ]
  },
  {
   "cell_type": "code",
   "execution_count": 2,
   "id": "17f687af",
   "metadata": {},
   "outputs": [],
   "source": [
    "# create a socket object\n",
    "s = socket.socket(socket.AF_INET, socket.SOCK_STREAM)"
   ]
  },
  {
   "cell_type": "code",
   "execution_count": 3,
   "id": "e12a6f81",
   "metadata": {},
   "outputs": [],
   "source": [
    "host = '127.0.0.1'\n",
    "port = 9002"
   ]
  },
  {
   "cell_type": "code",
   "execution_count": 4,
   "id": "3a9f147e",
   "metadata": {},
   "outputs": [],
   "source": [
    "# connect\n",
    "s.connect((host, port))\n",
    "# We are now connecting to the Server "
   ]
  },
  {
   "cell_type": "code",
   "execution_count": 5,
   "id": "a4097dc9",
   "metadata": {},
   "outputs": [
    {
     "name": "stdout",
     "output_type": "stream",
     "text": [
      "Test. Thanks for connecting with us!\n"
     ]
    }
   ],
   "source": [
    "#The client is receiving the data\n",
    "data = s.recv(1024).decode()\n",
    "print(data)\n",
    "#s.close()\n",
    "#print('Connection closed')"
   ]
  },
  {
   "cell_type": "code",
   "execution_count": null,
   "id": "486f0f64",
   "metadata": {},
   "outputs": [
    {
     "name": "stdout",
     "output_type": "stream",
     "text": [
      "Incoming message: 1\n",
      "Enter a message, please: 2\n",
      "Incoming message: 3\n",
      "Enter a message, please: 4\n"
     ]
    }
   ],
   "source": [
    "while True: \n",
    "    msg =s.recv(1024).decode()\n",
    "    if not msg:\n",
    "        break\n",
    "    print('Incoming message:', msg)\n",
    "    data = input('Enter a message, please: ')\n",
    "    s.sendall(str.encode(data))\n",
    "s.close()"
   ]
  }
 ],
 "metadata": {
  "kernelspec": {
   "display_name": "Python 3",
   "language": "python",
   "name": "python3"
  },
  "language_info": {
   "codemirror_mode": {
    "name": "ipython",
    "version": 3
   },
   "file_extension": ".py",
   "mimetype": "text/x-python",
   "name": "python",
   "nbconvert_exporter": "python",
   "pygments_lexer": "ipython3",
   "version": "3.8.8"
  }
 },
 "nbformat": 4,
 "nbformat_minor": 5
}
